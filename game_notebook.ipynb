{
 "cells": [
  {
   "cell_type": "code",
   "execution_count": null,
   "metadata": {},
   "outputs": [],
   "source": [
    "import pandas as pd\n",
    "import numpy as np\n",
    "import random\n",
    "from copy import deepcopy as copy"
   ]
  },
  {
   "cell_type": "code",
   "execution_count": null,
   "metadata": {},
   "outputs": [],
   "source": [
    "dice_values = [(4, 1), (6, 2), (8, 3), (10, 4), (10, 4), (12, 5), (20, 6)]\n",
    "goal = 20\n",
    "player_1_total = 0\n",
    "player_2_total = 0"
   ]
  },
  {
   "cell_type": "code",
   "execution_count": null,
   "metadata": {},
   "outputs": [],
   "source": [
    "player_1_money = 100\n",
    "player_2_money = 100"
   ]
  },
  {
   "cell_type": "code",
   "execution_count": null,
   "metadata": {},
   "outputs": [],
   "source": [
    "data = pd.DataFrame(columns=[\"round\", \"player 1 strategy\", \n",
    "                             \"player 2 strategy\", \n",
    "                             \"player 1 result\", \n",
    "                             \"player 2 result\", \n",
    "                             \"player 1 money\", \n",
    "                             \"player 2 money\"])"
   ]
  },
  {
   "cell_type": "code",
   "execution_count": null,
   "metadata": {},
   "outputs": [],
   "source": [
    "class Player:\n",
    "    def __init__(self, name, strategy, money, active):\n",
    "        self.name = name\n",
    "        self.strategy = strategy\n",
    "        self.money = money\n",
    "        self.active = active\n",
    "        self.total = 0\n",
    "    def __repr__(self):\n",
    "        return self.name\n",
    "class Die:\n",
    "    def __init__(self, value, cost):\n",
    "        self.value = value\n",
    "        self.cost = cost\n",
    "    def __repr__(self):\n",
    "        return str(self.value)\n",
    "original_dice_list = [Die(x, y) for x, y in dice_values]\n",
    "original_dice_list"
   ]
  },
  {
   "cell_type": "code",
   "execution_count": null,
   "metadata": {},
   "outputs": [],
   "source": [
    "def StartHighNeverBustStrategy(total, goal, money, dice):\n",
    "    dice.sort(reverse=True, key=lambda x: x.value)\n",
    "    print(dice)\n",
    "    gap = goal - total\n",
    "    gap\n",
    "    if gap<0:\n",
    "        raise Exception\n",
    "    for y in dice:\n",
    "        y\n",
    "        if y.value<=gap and y.cost<=money:\n",
    "            return y\n",
    "    return \"Hold\"\n",
    "\n",
    "def StartHighSometimesBustStrategy(total, goal, money, dice):\n",
    "    dice.sort(reverse=True, key=lambda x: x.value)\n",
    "    print(dice)\n",
    "    gap = goal - total\n",
    "    gap\n",
    "    if gap<0:\n",
    "        raise Exception\n",
    "    for y in dice:\n",
    "        y\n",
    "        if ((y.value*2)/3)<=gap and y.cost<=money:\n",
    "            return y\n",
    "    return \"Hold\"\n",
    "\n",
    "def StartHighFrequentlyBustStrategy(total, goal, money, dice):\n",
    "    dice.sort(reverse=True, key=lambda x: x.value)\n",
    "    print(dice)\n",
    "    gap = goal - total\n",
    "    gap\n",
    "    if gap<0:\n",
    "        raise Exception\n",
    "    for y in dice:\n",
    "        y\n",
    "        if (y.value/2)<=gap and y.cost<=money:\n",
    "            return y\n",
    "    return \"Hold\"\n",
    "\n",
    "def StartLowStrategy(total, goal, money, dice):\n",
    "    dice.sort(key=lambda x: x.value)\n",
    "    print(dice)\n",
    "    gap = goal - total\n",
    "    print(gap)\n",
    "    if gap<0:\n",
    "        raise Exception\n",
    "    for y in dice:\n",
    "        print(y)\n",
    "        if y.value<=gap and y.cost<=money:\n",
    "            return y\n",
    "    return \"Hold\"\n",
    "\n",
    "def WildCardStrategy(total, goal, money, dice):\n",
    "    print(dice)\n",
    "    return random.choice(dice)\n",
    "        "
   ]
  },
  {
   "cell_type": "markdown",
   "metadata": {},
   "source": []
  },
  {
   "cell_type": "code",
   "execution_count": null,
   "metadata": {},
   "outputs": [],
   "source": [
    "def RunGame(player_1, player_2, dice_list, results_df, goal = 20, blind = 1, rounds=None):\n",
    "    player_1 = copy(player_1)\n",
    "    player_2 = copy(player_2)\n",
    "    pot = 0\n",
    "    round_number = 1\n",
    "    print(dice_list)\n",
    "    dice_list = copy(dice_list)\n",
    "    initial_dice_list = copy(dice_list)\n",
    "    if random.random()<0.5:\n",
    "        player_order = [player_1, player_2]\n",
    "    else:\n",
    "        player_order = [player_2, player_1]\n",
    "    player_1.active = True\n",
    "    player_2.active = True\n",
    "    while (rounds is None or round_number<=rounds) and (player_1.money>(10*blind) and player_2.money>(10*blind)):\n",
    "        player_1.money = player_1.money - blind\n",
    "        pot = pot + blind\n",
    "        player_2.money = player_2.money - blind\n",
    "        pot = pot + blind\n",
    "        while len(dice_list)>0 and (player_1.active is True or player_2.active is True):\n",
    "            for z in player_order:\n",
    "                if z.active is True:\n",
    "                    try:\n",
    "                        die = z.strategy(z.total, goal, z.money, dice_list)\n",
    "                        print(\"Die is {}\".format(die))\n",
    "                    except Exception as e:\n",
    "                        z.active = False\n",
    "                        z.total = 0\n",
    "                        die = \"Hold\"\n",
    "                        print(\"Player busted\")\n",
    "                        print(e)\n",
    "                    if die != \"Hold\":\n",
    "                        z.total = z.total + (random.randint(1, die.value))\n",
    "                        if z.total>goal:\n",
    "                            z.active = False\n",
    "                            print(\"{} busted\".format(z.name))\n",
    "                        z.money = z.money - die.cost\n",
    "                        pot = pot + die.cost\n",
    "                        print(pot)\n",
    "                        dice_list.remove(die)\n",
    "                        print(\"Removing {} from dice list\".format(die))\n",
    "                        dice_list\n",
    "                    else:\n",
    "                        z.active = False\n",
    "        if player_1.total> goal:\n",
    "            player_1.total = 0\n",
    "        if player_2.total > goal:\n",
    "            player_2.total = 0\n",
    "        if player_1.total == player_2.total:\n",
    "            player_1.money = player_1.money + (pot/2)\n",
    "            player_2.money = player_2.money + (pot/2)\n",
    "            pot = 0\n",
    "        if player_1.total > player_2.total:\n",
    "            player_1.money = player_1.money + pot\n",
    "            pot = 0\n",
    "        if player_2.total > player_1.total:\n",
    "            player_2.money = player_2.money + pot\n",
    "            pot = 0\n",
    "        results_dict = {\"round\": str(round_number), \n",
    "                        \"player 1 strategy\": player_1.strategy, \n",
    "                            \"player 2 strategy\": player_2.strategy, \n",
    "                            \"player 1 result\": player_1.total, \n",
    "                            \"player 2 result\": player_2.total, \n",
    "                            \"player 1 money\": player_1.money, \n",
    "                            \"player 2 money\": player_2.money}\n",
    "        print(results_dict)\n",
    "        results_df = results_df.append(results_dict, ignore_index=True)\n",
    "        round_number = round_number + 1\n",
    "        print(\"Round Number is {}\".format(round_number))\n",
    "        dice_list = copy(initial_dice_list)\n",
    "        print(dice_list)\n",
    "        player_1.total = 0\n",
    "        player_2.total = 0\n",
    "        player_1.active = True\n",
    "        player_2.active = True\n",
    "        player_order = player_order[::-1]\n",
    "    return results_df\n",
    "\n",
    "\n",
    "        "
   ]
  },
  {
   "cell_type": "code",
   "execution_count": null,
   "metadata": {},
   "outputs": [],
   "source": [
    "start_high_never_bust = Player(\"Player 1\", StartHighNeverBustStrategy, player_1_money, True)\n",
    "start_low = Player(\"Player 2\", StartLowStrategy, player_2_money, True)\n",
    "start_high_sometimes_bust = Player(\"Player 3\", StartHighSometimesBustStrategy, player_1_money, True)\n",
    "start_high_frequently_bust = Player(\"Player 4\", StartHighFrequentlyBustStrategy, player_2_money, True)\n",
    "wild_card = Player(\"Player 5\", WildCardStrategy, player_1_money, True)"
   ]
  },
  {
   "cell_type": "code",
   "execution_count": null,
   "metadata": {},
   "outputs": [],
   "source": [
    "start_low.strategy(0, 20, 100, original_dice_list)"
   ]
  },
  {
   "cell_type": "code",
   "execution_count": null,
   "metadata": {},
   "outputs": [],
   "source": [
    "results_1 = RunGame(start_high_never_bust, start_low, original_dice_list, data)\n",
    "results_1"
   ]
  },
  {
   "cell_type": "code",
   "execution_count": null,
   "metadata": {},
   "outputs": [],
   "source": [
    "results_2 = RunGame(start_high_never_bust, start_high_sometimes_bust, original_dice_list, data)\n",
    "results_2"
   ]
  },
  {
   "cell_type": "code",
   "execution_count": null,
   "metadata": {},
   "outputs": [],
   "source": [
    "results_3 = RunGame(start_high_never_bust, start_high_frequently_bust, original_dice_list, data)\n",
    "results_3"
   ]
  },
  {
   "cell_type": "code",
   "execution_count": null,
   "metadata": {},
   "outputs": [],
   "source": [
    "results_4 = RunGame(start_low, start_high_sometimes_bust, original_dice_list, data)\n",
    "results_4"
   ]
  },
  {
   "cell_type": "markdown",
   "metadata": {},
   "source": []
  },
  {
   "cell_type": "code",
   "execution_count": null,
   "metadata": {},
   "outputs": [],
   "source": [
    "results_5 = RunGame(start_low, start_high_frequently_bust, original_dice_list, data)\n",
    "results_5"
   ]
  },
  {
   "cell_type": "code",
   "execution_count": null,
   "metadata": {},
   "outputs": [],
   "source": [
    "results_6 = RunGame(start_low, wild_card, original_dice_list, data)\n",
    "results_6"
   ]
  },
  {
   "cell_type": "code",
   "execution_count": null,
   "metadata": {},
   "outputs": [],
   "source": [
    "results_7 = RunGame(start_high_never_bust, wild_card, original_dice_list, data)\n",
    "results_7"
   ]
  }
 ],
 "metadata": {
  "kernelspec": {
   "display_name": "Python 3",
   "language": "python",
   "name": "python3"
  },
  "language_info": {
   "codemirror_mode": {
    "name": "ipython",
    "version": 3
   },
   "file_extension": ".py",
   "mimetype": "text/x-python",
   "name": "python",
   "nbconvert_exporter": "python",
   "pygments_lexer": "ipython3",
   "version": "3.7.3"
  }
 },
 "nbformat": 4,
 "nbformat_minor": 2
}
